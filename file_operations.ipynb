{
 "cells": [
  {
   "cell_type": "code",
   "execution_count": 23,
   "metadata": {},
   "outputs": [
    {
     "name": "stdout",
     "output_type": "stream",
     "text": [
      "This is a text file written to be used as the example for a python program. \n",
      "\n",
      "it will also contains hashtags like #PMO and #OpenSource. \n",
      "\n",
      "['#P', '#O'] \n",
      "\n",
      "This will also contain callouts like @PMO and @opensource, for confusion we will also use a simple @ UN. \n",
      "\n",
      "['@P', '@o'] \n",
      "\n",
      "['This', 'is', 'a', 'text', 'file', 'written', 'to', 'be', 'used', 'as', 'the', 'example', 'for', 'a', 'python', 'program.', 'it', 'will', 'also', 'contains', 'hashtags', 'like', '#PMO', 'and', '#OpenSource.', 'This', 'will', 'also', 'contain', 'callouts', 'like', '@PMO', 'and', '@opensource,', 'for', 'confusion', 'we', 'will', 'also', 'use', 'a', 'simple', '@', 'UN.'] \n",
      "\n",
      "This\n",
      "This\n",
      "UN.\n",
      "\n",
      "\n",
      "is\n",
      "text\n",
      "file\n",
      "written\n",
      "to\n",
      "be\n",
      "used\n",
      "as\n",
      "the\n",
      "example\n",
      "python\n",
      "program.\n",
      "it\n",
      "contains\n",
      "hashtags\n",
      "contain\n",
      "callouts\n",
      "confusion\n",
      "we\n",
      "use\n",
      "simple\n",
      "UN.\n"
     ]
    }
   ],
   "source": [
    "import re\n",
    "fh = open('Tw_text.txt')\n",
    "words = []\n",
    "counts = {}\n",
    "for line in fh:\n",
    "    print(line.strip(),'\\n')\n",
    "    words.extend(line.split())\n",
    "    otls_at = re.findall('@+\\S',line.strip())\n",
    "    otls_hash = re.findall('#+\\S',line.strip())\n",
    "    if len(otls_at) != 0:\n",
    "        print(otls_at,'\\n')\n",
    "    if len(otls_hash) != 0:\n",
    "        print(otls_hash,'\\n')\n",
    "print(words,'\\n')\n",
    "for i in words:   \n",
    "    if i[0].isupper() == True:\n",
    "        print(i)\n",
    "    if i in counts:\n",
    "        counts[i] += 1\n",
    "    else:\n",
    "        counts[i] = 1\n",
    "print('\\n')\n",
    "for k,v in counts.items():\n",
    "    if v == 1 and k[0] != '@' and k[0] != '#':\n",
    "        print(k)\n",
    "    \n"
   ]
  },
  {
   "cell_type": "code",
   "execution_count": null,
   "metadata": {},
   "outputs": [],
   "source": []
  }
 ],
 "metadata": {
  "kernelspec": {
   "display_name": "Python 3",
   "language": "python",
   "name": "python3"
  },
  "language_info": {
   "codemirror_mode": {
    "name": "ipython",
    "version": 3
   },
   "file_extension": ".py",
   "mimetype": "text/x-python",
   "name": "python",
   "nbconvert_exporter": "python",
   "pygments_lexer": "ipython3",
   "version": "3.8.3"
  }
 },
 "nbformat": 4,
 "nbformat_minor": 4
}
