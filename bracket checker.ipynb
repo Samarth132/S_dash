{
 "cells": [
  {
   "cell_type": "code",
   "execution_count": 25,
   "metadata": {},
   "outputs": [
    {
     "name": "stdout",
     "output_type": "stream",
     "text": [
      "enter series of opening and closing brackets[{}]\n",
      "{ }\n",
      "[ ]\n",
      "valid\n"
     ]
    }
   ],
   "source": [
    "import re\n",
    "c = input('enter series of opening and closing brackets')\n",
    "if len(c)%2 != 0 and len(c)==0:\n",
    "    print('invalid')\n",
    "l_st = []\n",
    "for i in range(len(c)):\n",
    "    if c[i] == '{' or c[i] == '[' or c[i] == '(':\n",
    "        l_st.append(c[i])\n",
    "    if c[i] == '}' or c[i] == ']'or c[i] == ')':\n",
    "        ele = l_st.pop()\n",
    "        if ele == '{' and c[i] == '}':\n",
    "            print(ele,c[i])\n",
    "        if ele == '[' and c[i] == ']':\n",
    "            print(ele,c[i])\n",
    "        if ele == '(' and c[i] == ')':\n",
    "            print(ele,c[i])\n",
    "if len(l_st) == 0 and i==len(c)-1:\n",
    "    print('valid')\n",
    "else:\n",
    "    print('invalid')"
   ]
  },
  {
   "cell_type": "code",
   "execution_count": null,
   "metadata": {},
   "outputs": [],
   "source": []
  }
 ],
 "metadata": {
  "kernelspec": {
   "display_name": "Python 3",
   "language": "python",
   "name": "python3"
  },
  "language_info": {
   "codemirror_mode": {
    "name": "ipython",
    "version": 3
   },
   "file_extension": ".py",
   "mimetype": "text/x-python",
   "name": "python",
   "nbconvert_exporter": "python",
   "pygments_lexer": "ipython3",
   "version": "3.7.6"
  }
 },
 "nbformat": 4,
 "nbformat_minor": 4
}
