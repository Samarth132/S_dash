{
 "cells": [
  {
   "cell_type": "code",
   "execution_count": 4,
   "metadata": {},
   "outputs": [
    {
     "name": "stdout",
     "output_type": "stream",
     "text": [
      "enter a number : 123\n",
      "Is the number a phone number?\n",
      "False\n"
     ]
    }
   ],
   "source": [
    "#Regular expressions\n",
    "#program to check if a given num is a phone num(without regex)\n",
    "def isphnum(text):\n",
    "    if len(text)!=13:\n",
    "        return False\n",
    "    if text[0] != '+':\n",
    "        return False\n",
    "    for i in range(1,13):\n",
    "        if not text[i].isdecimal():\n",
    "            return False\n",
    "    if text[0:3]!='+91':\n",
    "        return False\n",
    "    return True\n",
    "ph=input('enter a number : ')\n",
    "print('Is the number a phone number?')\n",
    "print(isphnum(ph))\n"
   ]
  },
  {
   "cell_type": "code",
   "execution_count": 12,
   "metadata": {},
   "outputs": [
    {
     "name": "stdout",
     "output_type": "stream",
     "text": [
      "Enter a num : +919986120963\n",
      "ph_num found: 919986120963\n"
     ]
    }
   ],
   "source": [
    "#using regex\n",
    "import re\n",
    "num=input('Enter a num : ')\n",
    "if num[0]=='+':\n",
    "    #ph contains a regex object\n",
    "    ph=re.compile(r'\\d{12}')#\\d is a digit character\n",
    "    mobj=ph.search(num)#search returns a math object if the pattern matches else it returns a None type\n",
    "    try:\n",
    "        print('ph_num found: '+mobj.group())#group is called to return a string of the matched text\n",
    "    except:\n",
    "        print('not a ph_num')\n",
    "else:\n",
    "    print('not a ph_num')"
   ]
  },
  {
   "cell_type": "code",
   "execution_count": null,
   "metadata": {},
   "outputs": [],
   "source": []
  }
 ],
 "metadata": {
  "kernelspec": {
   "display_name": "Python 3",
   "language": "python",
   "name": "python3"
  },
  "language_info": {
   "codemirror_mode": {
    "name": "ipython",
    "version": 3
   },
   "file_extension": ".py",
   "mimetype": "text/x-python",
   "name": "python",
   "nbconvert_exporter": "python",
   "pygments_lexer": "ipython3",
   "version": "3.8.3"
  }
 },
 "nbformat": 4,
 "nbformat_minor": 4
}
